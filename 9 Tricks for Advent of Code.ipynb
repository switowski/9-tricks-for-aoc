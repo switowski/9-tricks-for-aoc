{
 "cells": [
  {
   "cell_type": "markdown",
   "id": "a42f413b",
   "metadata": {},
   "source": [
    "## Advent of Code\n",
    "\n",
    "For those of you who never heard of it, Advent of Code (https://adventofcode.com/) is a set of puzzles released every year in December. They are not easy (at least for me), and they get slightly more difficult every day. Every year has a theme - last year, it was about holidays on the tropical islands, and in the previous years, it was always happening on the north pole where you were supposed to help Santa and his elves save Christmas.\n",
    "\n",
    "The puzzles don't have to be solved programmatically at all. You can solve them on a piece of paper, but usually, since the input data was large, it's easier to use the help of the computer."
   ]
  },
  {
   "cell_type": "markdown",
   "id": "0dc8ebf9",
   "metadata": {},
   "source": [
    "#### For example (AoC 2020 Day 1):"
   ]
  },
  {
   "cell_type": "markdown",
   "id": "d3670791",
   "metadata": {},
   "source": [
    "_Before you leave, the Elves in accounting just need you to fix your expense report (your puzzle input); apparently, something isn't quite adding up._\n",
    "\n",
    "_Specifically, they need you to find the two entries that sum to 2020 and then multiply those two numbers together._\n",
    "\n",
    "_For example, suppose your expense report contained the following:_\n",
    "```\n",
    "1721\n",
    "979\n",
    "366\n",
    "299\n",
    "675\n",
    "1456\n",
    "```\n",
    "_In this list, the two entries that sum to 2020 are `1721` and `299`. Multiplying them together produces `1721 * 299 = 514579`, so the correct answer is **514579**._"
   ]
  },
  {
   "cell_type": "markdown",
   "id": "d5217676",
   "metadata": {},
   "source": [
    "If you're solving those riddles in Python, then using Jupyter notebooks is a good idea because you can incrementally work on your solution. You can output the intermediate solution until you get to the answer.\n",
    "\n",
    "Many of those puzzles will require you to do some mathematical operations, make products or combinations of different data or match some string patterns on a large set of data. So using libraries like numpy, regex, functools, and so on is usually quite handy to solve them."
   ]
  },
  {
   "cell_type": "markdown",
   "id": "c0ed9090",
   "metadata": {},
   "source": [
    "## 1. Get the documentation\n",
    "\n",
    "One way to get the documentation of some functions is to google it.\n",
    "But there is a better way that doesn't require you to leave the notebook at all!"
   ]
  },
  {
   "cell_type": "code",
   "execution_count": 3,
   "id": "251e5f45",
   "metadata": {},
   "outputs": [],
   "source": [
    "re?\n",
    "re.match?\n",
    "np.select?"
   ]
  },
  {
   "cell_type": "markdown",
   "id": "2fba8fdb",
   "metadata": {},
   "source": [
    "## 2. Wildcard search\n",
    "\n",
    "When you don't know the name of some function, you can do a wildcard search on the whole module.\n",
    "\n",
    "For example, I remember that re module has a function to find all matches, but I don't remember its name:"
   ]
  },
  {
   "cell_type": "code",
   "execution_count": 4,
   "id": "20d5b9e5",
   "metadata": {},
   "outputs": [],
   "source": [
    "re.find*?"
   ]
  },
  {
   "cell_type": "markdown",
   "id": "b0a9797d",
   "metadata": {
    "slideshow": {
     "slide_type": "-"
    }
   },
   "source": [
    "In the previous example I could also hit `<TAB>` and get the autocompletion for the name.  \n",
    "But what if I know a part of functions name?  \n",
    "For example, I know that the `os` module has a function to make a directory and obviously it has to have **dir** in its name.  \n",
    "But is it `makedir` or `mkdir` or maybe `dir_create`?"
   ]
  },
  {
   "cell_type": "code",
   "execution_count": 5,
   "id": "69e373c6",
   "metadata": {},
   "outputs": [],
   "source": [
    "import os\n",
    "os.*dir*?"
   ]
  },
  {
   "cell_type": "markdown",
   "id": "ce620eaf",
   "metadata": {},
   "source": [
    "##  3. Executing code at statup\n",
    "\n",
    "Btw. did you notice that I didn't import `re` in my previous example? And yet, the code still worked!\n",
    "\n",
    "\n",
    "You can put some code inside IPython startup directory and it will automatically executed when you start Jupyter or IPython."
   ]
  },
  {
   "cell_type": "code",
   "execution_count": 6,
   "id": "69666016",
   "metadata": {},
   "outputs": [
    {
     "data": {
      "text/plain": [
       "'/Users/switowski/.ipython'"
      ]
     },
     "execution_count": 6,
     "metadata": {},
     "output_type": "execute_result"
    }
   ],
   "source": [
    "from IPython.paths import get_ipython_dir\n",
    "get_ipython_dir()"
   ]
  },
  {
   "cell_type": "markdown",
   "id": "29d85813",
   "metadata": {},
   "source": [
    "Inside that folder, you can go to `/profile_default/startup` and whatever Python files you put there, they will be executed **each** time you start Jupyter or IPython."
   ]
  },
  {
   "cell_type": "markdown",
   "id": "e88ff590",
   "metadata": {},
   "source": [
    "If you put too much there, the startup time will be slow."
   ]
  },
  {
   "cell_type": "markdown",
   "id": "b7a46bee",
   "metadata": {},
   "source": [
    "## 4. Running shell commands\n",
    "\n",
    "We could go to the terminal to see what's inside our startup folder, but we might as well check it right in the notebook. Jupyter can run shell commands:"
   ]
  },
  {
   "cell_type": "code",
   "execution_count": 7,
   "id": "88e87a91",
   "metadata": {},
   "outputs": [
    {
     "name": "stdout",
     "output_type": "stream",
     "text": [
      "README  aoc.py\r\n"
     ]
    }
   ],
   "source": [
    "!ls /Users/switowski/.ipython/profile_default/startup/"
   ]
  },
  {
   "cell_type": "code",
   "execution_count": 8,
   "id": "f358e833",
   "metadata": {},
   "outputs": [
    {
     "name": "stdout",
     "output_type": "stream",
     "text": [
      "import re\r\n",
      "import numpy as np\r\n",
      "import pandas as pd\r\n",
      "\r\n",
      "def read_input(name):\r\n",
      "    with open(name, 'r') as f:\r\n",
      "        return f.readlines()\r\n"
     ]
    }
   ],
   "source": [
    "!cat /Users/switowski/.ipython/profile_default/startup/aoc.py"
   ]
  },
  {
   "cell_type": "markdown",
   "id": "6eef8639",
   "metadata": {},
   "source": [
    "We could even add something to that file without leaving Jupyter:"
   ]
  },
  {
   "cell_type": "code",
   "execution_count": 9,
   "id": "e9a47671",
   "metadata": {},
   "outputs": [],
   "source": [
    "!echo \"import os\" >> /Users/switowski/.ipython/profile_default/startup/aoc.py"
   ]
  },
  {
   "cell_type": "code",
   "execution_count": 10,
   "id": "0609d7ff",
   "metadata": {
    "scrolled": true
   },
   "outputs": [
    {
     "name": "stdout",
     "output_type": "stream",
     "text": [
      "import re\r\n",
      "import numpy as np\r\n",
      "import pandas as pd\r\n",
      "\r\n",
      "def read_input(name):\r\n",
      "    with open(name, 'r') as f:\r\n",
      "        return f.readlines()\r\n",
      "import os\r\n"
     ]
    }
   ],
   "source": [
    "!cat /Users/switowski/.ipython/profile_default/startup/aoc.py"
   ]
  },
  {
   "cell_type": "markdown",
   "id": "110493f8",
   "metadata": {},
   "source": [
    "Editing files on your local filesystem by `echo`-ing them through Jupyter is a terrible idea, but, for example, moving around the file system without closing and reopening the notebook is not. This is useful when you started your notebook in a wrong folder, so instead of always prepending the long path to another folder you can just move there:\n",
    "\n",
    "```\n",
    "!cd some/other/folder/\n",
    "read_input('day1.txt')\n",
    "read_input('day2.txt')\n",
    "...\n",
    "```"
   ]
  },
  {
   "cell_type": "markdown",
   "id": "90a2b255",
   "metadata": {},
   "source": [
    "## 5. Store and restore variables\n",
    "\n",
    "Sometimes you might have some data that you want to \"save\" when you close your Jupyter notebook session.\n",
    "For the AoC it could be the input data, which is not a big deal. But if you are a data scientist and you work with large datasets, it might happen that you just spent a day cleaning some large dataset and each time you used a separate cell, you printed the output and so on. So the get that dataset back when you close the notebook, you will have to rerun it, and it might take a lot of time.\n",
    "\n",
    "Or maybe you even don't have access to the initial data.\n",
    "\n",
    "With Jupyter, you can \"save\" and \"restore\" variables."
   ]
  },
  {
   "cell_type": "code",
   "execution_count": 11,
   "id": "f1fbdc54",
   "metadata": {},
   "outputs": [],
   "source": [
    "day1 = read_input('day1.txt')"
   ]
  },
  {
   "cell_type": "code",
   "execution_count": null,
   "id": "adf470f4",
   "metadata": {
    "scrolled": true
   },
   "outputs": [],
   "source": [
    "day1"
   ]
  },
  {
   "cell_type": "code",
   "execution_count": 13,
   "id": "9ae56c7c",
   "metadata": {},
   "outputs": [
    {
     "name": "stdout",
     "output_type": "stream",
     "text": [
      "Stored 'day1' (list)\n"
     ]
    }
   ],
   "source": [
    "# Store day1 variable\n",
    "%store day1"
   ]
  },
  {
   "cell_type": "code",
   "execution_count": 14,
   "id": "6373d014",
   "metadata": {},
   "outputs": [
    {
     "name": "stdout",
     "output_type": "stream",
     "text": [
      "Stored variables and their in-db values:\n",
      "day1             -> ['1140\\n', '1736\\n', '1711\\n', '1803\\n', '1825\\n',\n",
      "day2             -> ['7-9 l: vslmtglbc\\n', '2-3 s: hpbs\\n', '1-3 v: pv\n"
     ]
    }
   ],
   "source": [
    "# Show all stored variables\n",
    "%store"
   ]
  },
  {
   "cell_type": "code",
   "execution_count": 15,
   "id": "c3cfab72",
   "metadata": {},
   "outputs": [],
   "source": [
    "%store -r day2"
   ]
  },
  {
   "cell_type": "code",
   "execution_count": null,
   "id": "9de8ea31",
   "metadata": {
    "scrolled": true
   },
   "outputs": [],
   "source": [
    "day2"
   ]
  },
  {
   "cell_type": "markdown",
   "id": "9b43fbb3",
   "metadata": {},
   "source": [
    "## 6. List all variables\n",
    "\n",
    "After a long Jupyter session, you might lose track of what variables you have. So you try to print the list of available variables and find this one that you are interested in:"
   ]
  },
  {
   "cell_type": "code",
   "execution_count": null,
   "id": "d706550a",
   "metadata": {
    "scrolled": true
   },
   "outputs": [],
   "source": [
    "dir()"
   ]
  },
  {
   "cell_type": "code",
   "execution_count": null,
   "id": "d6255ca3",
   "metadata": {},
   "outputs": [],
   "source": [
    "globals()"
   ]
  },
  {
   "cell_type": "code",
   "execution_count": null,
   "id": "e3b5a8a0",
   "metadata": {},
   "outputs": [],
   "source": [
    "locals()"
   ]
  },
  {
   "cell_type": "markdown",
   "id": "1ad83fff",
   "metadata": {},
   "source": [
    "But Jupyter has a much nicer commands to just print the variables and functions that you defined or imported:"
   ]
  },
  {
   "cell_type": "code",
   "execution_count": 19,
   "id": "d8917dff",
   "metadata": {},
   "outputs": [
    {
     "name": "stdout",
     "output_type": "stream",
     "text": [
      "day1\t day2\t get_ipython_dir\t os\t \n"
     ]
    }
   ],
   "source": [
    "%who"
   ]
  },
  {
   "cell_type": "code",
   "execution_count": 20,
   "id": "fdf673dd",
   "metadata": {},
   "outputs": [
    {
     "name": "stdout",
     "output_type": "stream",
     "text": [
      "Variable          Type        Data/Info\n",
      "---------------------------------------\n",
      "day1              list        n=200\n",
      "day2              list        n=1000\n",
      "get_ipython_dir   function    <function get_ipython_dir at 0x104fbab80>\n",
      "os                module      <module 'os' from '/Users<...>9.0/lib/python3.9/os.py'>\n"
     ]
    }
   ],
   "source": [
    "%whos"
   ]
  },
  {
   "cell_type": "markdown",
   "id": "04f1a3b0",
   "metadata": {},
   "source": [
    "## 7. Post-mortem debugging\n",
    "\n",
    "Sometimes an error happens and you wish you run that code with a debugger or some breakpoints (because rerunning that code will take ages).\n",
    "\n",
    "Jupyter has a post-mortem debugger that you can use to debug the exception that just happened:"
   ]
  },
  {
   "cell_type": "code",
   "execution_count": 21,
   "id": "2a804990",
   "metadata": {},
   "outputs": [
    {
     "ename": "UnicodeDecodeError",
     "evalue": "'utf-8' codec can't decode byte 0xc8 in position 3: invalid continuation byte",
     "output_type": "error",
     "traceback": [
      "\u001b[0;31m---------------------------------------------------------------------------\u001b[0m",
      "\u001b[0;31mUnicodeDecodeError\u001b[0m                        Traceback (most recent call last)",
      "\u001b[0;32m<ipython-input-21-678dea00d2b8>\u001b[0m in \u001b[0;36m<module>\u001b[0;34m\u001b[0m\n\u001b[0;32m----> 1\u001b[0;31m \u001b[0mread_input\u001b[0m\u001b[0;34m(\u001b[0m\u001b[0;34m'day3.txt'\u001b[0m\u001b[0;34m)\u001b[0m\u001b[0;34m\u001b[0m\u001b[0;34m\u001b[0m\u001b[0m\n\u001b[0m",
      "\u001b[0;32m~/.ipython/profile_default/startup/aoc.py\u001b[0m in \u001b[0;36mread_input\u001b[0;34m(name)\u001b[0m\n\u001b[1;32m      5\u001b[0m \u001b[0;32mdef\u001b[0m \u001b[0mread_input\u001b[0m\u001b[0;34m(\u001b[0m\u001b[0mname\u001b[0m\u001b[0;34m)\u001b[0m\u001b[0;34m:\u001b[0m\u001b[0;34m\u001b[0m\u001b[0;34m\u001b[0m\u001b[0m\n\u001b[1;32m      6\u001b[0m     \u001b[0;32mwith\u001b[0m \u001b[0mopen\u001b[0m\u001b[0;34m(\u001b[0m\u001b[0mname\u001b[0m\u001b[0;34m,\u001b[0m \u001b[0;34m'r'\u001b[0m\u001b[0;34m)\u001b[0m \u001b[0;32mas\u001b[0m \u001b[0mf\u001b[0m\u001b[0;34m:\u001b[0m\u001b[0;34m\u001b[0m\u001b[0;34m\u001b[0m\u001b[0m\n\u001b[0;32m----> 7\u001b[0;31m         \u001b[0;32mreturn\u001b[0m \u001b[0mf\u001b[0m\u001b[0;34m.\u001b[0m\u001b[0mreadlines\u001b[0m\u001b[0;34m(\u001b[0m\u001b[0;34m)\u001b[0m\u001b[0;34m\u001b[0m\u001b[0;34m\u001b[0m\u001b[0m\n\u001b[0m\u001b[1;32m      8\u001b[0m \u001b[0;32mimport\u001b[0m \u001b[0mos\u001b[0m\u001b[0;34m\u001b[0m\u001b[0;34m\u001b[0m\u001b[0m\n",
      "\u001b[0;32m~/.pyenv/versions/3.9.0/lib/python3.9/codecs.py\u001b[0m in \u001b[0;36mdecode\u001b[0;34m(self, input, final)\u001b[0m\n\u001b[1;32m    320\u001b[0m         \u001b[0;31m# decode input (taking the buffer into account)\u001b[0m\u001b[0;34m\u001b[0m\u001b[0;34m\u001b[0m\u001b[0;34m\u001b[0m\u001b[0m\n\u001b[1;32m    321\u001b[0m         \u001b[0mdata\u001b[0m \u001b[0;34m=\u001b[0m \u001b[0mself\u001b[0m\u001b[0;34m.\u001b[0m\u001b[0mbuffer\u001b[0m \u001b[0;34m+\u001b[0m \u001b[0minput\u001b[0m\u001b[0;34m\u001b[0m\u001b[0;34m\u001b[0m\u001b[0m\n\u001b[0;32m--> 322\u001b[0;31m         \u001b[0;34m(\u001b[0m\u001b[0mresult\u001b[0m\u001b[0;34m,\u001b[0m \u001b[0mconsumed\u001b[0m\u001b[0;34m)\u001b[0m \u001b[0;34m=\u001b[0m \u001b[0mself\u001b[0m\u001b[0;34m.\u001b[0m\u001b[0m_buffer_decode\u001b[0m\u001b[0;34m(\u001b[0m\u001b[0mdata\u001b[0m\u001b[0;34m,\u001b[0m \u001b[0mself\u001b[0m\u001b[0;34m.\u001b[0m\u001b[0merrors\u001b[0m\u001b[0;34m,\u001b[0m \u001b[0mfinal\u001b[0m\u001b[0;34m)\u001b[0m\u001b[0;34m\u001b[0m\u001b[0;34m\u001b[0m\u001b[0m\n\u001b[0m\u001b[1;32m    323\u001b[0m         \u001b[0;31m# keep undecoded input until the next call\u001b[0m\u001b[0;34m\u001b[0m\u001b[0;34m\u001b[0m\u001b[0;34m\u001b[0m\u001b[0m\n\u001b[1;32m    324\u001b[0m         \u001b[0mself\u001b[0m\u001b[0;34m.\u001b[0m\u001b[0mbuffer\u001b[0m \u001b[0;34m=\u001b[0m \u001b[0mdata\u001b[0m\u001b[0;34m[\u001b[0m\u001b[0mconsumed\u001b[0m\u001b[0;34m:\u001b[0m\u001b[0;34m]\u001b[0m\u001b[0;34m\u001b[0m\u001b[0;34m\u001b[0m\u001b[0m\n",
      "\u001b[0;31mUnicodeDecodeError\u001b[0m: 'utf-8' codec can't decode byte 0xc8 in position 3: invalid continuation byte"
     ]
    }
   ],
   "source": [
    "read_input('day3.txt')"
   ]
  },
  {
   "cell_type": "code",
   "execution_count": 22,
   "id": "4b2f19b6",
   "metadata": {},
   "outputs": [
    {
     "name": "stdout",
     "output_type": "stream",
     "text": [
      "> \u001b[0;32m/Users/switowski/.pyenv/versions/3.9.0/lib/python3.9/codecs.py\u001b[0m(322)\u001b[0;36mdecode\u001b[0;34m()\u001b[0m\n",
      "\u001b[0;32m    320 \u001b[0;31m        \u001b[0;31m# decode input (taking the buffer into account)\u001b[0m\u001b[0;34m\u001b[0m\u001b[0;34m\u001b[0m\u001b[0;34m\u001b[0m\u001b[0m\n",
      "\u001b[0m\u001b[0;32m    321 \u001b[0;31m        \u001b[0mdata\u001b[0m \u001b[0;34m=\u001b[0m \u001b[0mself\u001b[0m\u001b[0;34m.\u001b[0m\u001b[0mbuffer\u001b[0m \u001b[0;34m+\u001b[0m \u001b[0minput\u001b[0m\u001b[0;34m\u001b[0m\u001b[0;34m\u001b[0m\u001b[0m\n",
      "\u001b[0m\u001b[0;32m--> 322 \u001b[0;31m        \u001b[0;34m(\u001b[0m\u001b[0mresult\u001b[0m\u001b[0;34m,\u001b[0m \u001b[0mconsumed\u001b[0m\u001b[0;34m)\u001b[0m \u001b[0;34m=\u001b[0m \u001b[0mself\u001b[0m\u001b[0;34m.\u001b[0m\u001b[0m_buffer_decode\u001b[0m\u001b[0;34m(\u001b[0m\u001b[0mdata\u001b[0m\u001b[0;34m,\u001b[0m \u001b[0mself\u001b[0m\u001b[0;34m.\u001b[0m\u001b[0merrors\u001b[0m\u001b[0;34m,\u001b[0m \u001b[0mfinal\u001b[0m\u001b[0;34m)\u001b[0m\u001b[0;34m\u001b[0m\u001b[0;34m\u001b[0m\u001b[0m\n",
      "\u001b[0m\u001b[0;32m    323 \u001b[0;31m        \u001b[0;31m# keep undecoded input until the next call\u001b[0m\u001b[0;34m\u001b[0m\u001b[0;34m\u001b[0m\u001b[0;34m\u001b[0m\u001b[0m\n",
      "\u001b[0m\u001b[0;32m    324 \u001b[0;31m        \u001b[0mself\u001b[0m\u001b[0;34m.\u001b[0m\u001b[0mbuffer\u001b[0m \u001b[0;34m=\u001b[0m \u001b[0mdata\u001b[0m\u001b[0;34m[\u001b[0m\u001b[0mconsumed\u001b[0m\u001b[0;34m:\u001b[0m\u001b[0;34m]\u001b[0m\u001b[0;34m\u001b[0m\u001b[0;34m\u001b[0m\u001b[0m\n",
      "\u001b[0m\n",
      "ipdb> data\n",
      "b'*,Y\\xc8>\\x047\\xb4\\x16\\xdc\\x80-B4\\x8c\\xe9}W\\xbf\\xdc\\x8b\\x11\\xdaX\\x80\\x07\\xe1\\xee\\x7f\\x0eN\\x92\\xe5\\x1e\\xfa_\\xb7\\xe6\\xeb\\x9c\\x96\\xab\\xbdK\\xe1\\x99\\x01d3\"\\x00\\x92\\xcd\\x0e\\x82\\x0c\\x06\\xf1\\xc6\\xd4<\\x96\\xa23\\xa9\\r\\xd7-\\xad\\xf0\\x90l=\\x020n\\xfb\\x9eZ\\x17i\\xbaJ\\x10\\xbb\\x06\\xa6\\x8eA\\xfd\\xe9\\xd8\\xe6#\\x13w\\xcb\\x89\\xc5j\\x187\\x8as\\xa3\\x1e\\xc8B\\xddK\\xd4cR\\xd7\\xd1\\x00\\xce\\xbf\\r\\xde\\xd6\\xae\\xe9$\\x0bc\\xcaP\\xbf\\x15\\xb2z\\xacE\\xe5\\x98\\x86v\\xf3\\x9b\\xe1\\xd1\\xee0\\xc4\\xfaf=\\x8e\\xe9Uo\\xca\\x04O:<\\x15t\\xffFF\\x16\\xf6N\\xfd]\\x8d\\xc5\\xe3\\xdf\\ncj\\x08\\xd5QJI\\xe3\\x05\\xef\\x1f\\x8d\\xd9\\xcbv\\xec7\\x0bK}\\xb5\\x80K\\xcf|G\\x1a\\xde\\x8bQ\\xc3\\x02\\xad\\xd1\\x0c\\x19z\\x15\\xad}\\xc8\\xdb\\x88c\\x9b\\xe8#\\x87\\xbc:wf\\xe8B~\\x0b\\xa9$\\x8b\\xb6\\xfc\\x1b}S\\xdb\\x9c\\xa5a\\x15\\x92\\xe4\\x000\\xa8\\x86\\x870\\xd1d\\xeb\\xf2{A\\xb9\\x0e\\xaaF\\xcd\\x80V\\x80T\\xbd\\xf6B,3\\xdbCV\\xf0\\x1aA#,I3\\xec\\xe2\\xb0\\x0e\\xfaR\\xd4\\xd2\\x80MBX(\\xb2\\x7f\\xf9\\xc1\\xfc\\xc0\\xb6\\x9fF!\\x14\\xc5\\x07\\xaaP\\xc0\\xe1s\\x1em\\xc6\\x9a\\xc9\\xf1\\x1a\\x95\\x8f\\x1e\\xdaR\\xbb\\xe1\\xf0\\xf7\\xb3\\xac*\\x9a.\\xf9\\x08T\\xc1\\xb2g\\x18\\xb2\\xd8\\xae\\x01\\xfe3\\xf8w\\xc0\\xce#0\\x06\\x12\\xc0\\x92m\\x0f:\\x84Y\\xf1\\xf1\\xd0\\x8e\\xd8\\x01\\x9a6H\\x95y\\x1b\\xf7+\\x9d\\x8eZ\\xdc]$\\xda\\r\\xe9\\xb5$\\xd3\\x02l\\xd6\\xe0\\x0f\\xfb\\xd1\\xae\\x7f\\xa9\\xe4\\xfb\\xaa\\x7fs!\\xc7\\x83\\xfej\\xd1\\xf3Q`)x\\xeb\\x85\\x11\\x8f\\xd9\\xfd\\xba\\xfd\\xa0\\x17)3\\xfc\\x1a\\xd9\\x9e\\x13$\\xed\\x82\\x9bw\\x94h*e\\r\\xa1\\xd6p\\x0eU\\xef{\\xecsg\\x98e\\x82\\x0e?$2?e\\x99\\xd5\\x01\\xe2a$\\xf89\\xef\\xb3\\xce\\xde\\xcb\\\\\\xf2\\xc1\\x10\\x91\\xa4=\\xe534\\xbb\\x12\\xa2\\xc6\\x95\\xec\\x9d\\x06G\\r\\'`\\x80\\t3\\x7f\\x1fN\\x1c\\xe9\\x8a\\xb9\\xc5\\xf0^\\xcb\\xff\\xa6D.\\xaes\\'\\x8b\\xde\\xfb@m\\x03%\\xc7R\\r;T\\xae\\xf4\\r\\xba~y#\\xa5`\\x13\\xe6e\\xe1HG\\x88N\\x01\\x1by\\xec=\\x8aL\\xb4\\xa43\\xd9\\x83\\tp^\\x16#\\x7f\\x96\\xbe\\xa1S\\x10\\xaa\\xb3\\xe0\\xed*o\\x92#\\x17\\x04\\xad\\x12r\\x87\\x8e\\xf0\\x00\\xe2\\xffv\\xa4z\\xccg\\xed\\xdal\\x82\\xd7(\\xeaR\\xbe;\\xd5\\xde\\xd1\\'\\xa3z\\x1a\\x86\\'d\\xdc~\\xbcM\\x00\\xe5\\xb1\\xa3\\xbd\\x9c]qGdF.Z@1\\x0fKy\\xc4\\xf0\\xe9\\x8bi5\\xe6~\\x978\\xa1\\xb4\\x87\\xf2\\xb5\\r\\x03q\\x96\\xb4\\xe9\\xcd\\xeb\\xaa\\xfa\\xb2\\xfe\\xee\\xa2\\xf1\\x1e\\xd7\\xcb\\x08\\xe1\\xa8\\xc5\\xf7Y\\x9f\\x9e\\xa5\\xbd&\\xd3p\\xae*\\xfe4Gv\\xf5y/\\x11\\xba{G\\xee\\xb8\\xc1?\\xda\\x85\\x80]?\\x9bs4\\x04Ry w\\xf9\\xe9B\\x03\\xc0\\xaa\\x99\\xaf\\xd1\\xf8t\\'\\x91\\xcb+\\xc5V\\xcb\\x9e\\x8e\\x90\\x02\\x91r\\xe2}\\xea\\xd9$4,T\\xc2!\\x04\\xd3e\\xfa\\xc37c\\xdcI/\\x9e(O`\\xa1b\\x89\\x8c[\\x856\\xb8q\\xf6\\x86\\x10\\xff\\x8d\\x86\\xc8\\xd9*\\xafa\\xc4\\xde\\x92\\xa3\\xa4\\xe1\\xb0\\xf6\\x96Q\\xaaD\\x19;\\xad\\x18\\x12\\xc2\\x8b8z5\\xa2u\\x1e)\\xbf~\\xf3\\x8fw\\xbcH\\xaa\\xbc)\\xa7\\xbcS\\x95\\xe1^\\x00\\x11\\x9d;\\xc5\\xc7\\t\\xbdu\\x1b9\\x11x\\x88\\xccp\\xc0\\xacb\\xfe\\xd9\\xa7\\xef\\xd0\\xc0\\x17j\\x05\\xed\\'\\xf0)\\x10X\\x18\\x9f\\xcd:\\xca\\x1c\\x15O\\xc8\\x85(tj\\x8e\\x9byl\\x18\\xf4\\x15\\\\\\xe9PW\\x1d\\xc6\\xb5\\xfb\\x06v\\x96\\xb2\\x1e\\x80-H\\xd9\\xe1\\t\\xa1\\x8a\\x8d?_ \\x19\\x88G\\x17\\xefF%O\\xdd\\x9f\\xb7Z\\xe0\\xe5\\x8cT\\x96\\xef\\xce\\xd4\\x98\\x1b#G\\xf1AI\\xc6\\x93\\xaf\\x8dL\\xc87\\xeb\\xe5\\xff\\xe8\\x15\\xc6cFV,m\\x93\\xc2\\x1a{\\xa8\\x90#\\xe7\\x0c~|\\x06\\xd6\\x0c\\x9c\\xc6Q\\xf2\\x03Z\\xa8I\\x9b\\xe9\\x9d\\xca\\x00\\x86=/\\x9a\\x1c\\xe0\\xc8\\xc1P\\x9d\\x1fw\\xa3\\xf8,?N\\x17\\x0b\\xd1#_s^\\x86i\\xadC\\x7f\\xca\\xe4\\xc5\\'P:;UP7=>l2k\\xc0q\\xd4\\xb1|;fc;\\xea\\xb4j\\x90\\xb3\\x1fn\\x08\\xaf\\xab\\xe8]\\xdbK\\xb3\\xd7\\x86M\\x11(>\\xbau[\\xe2W\\xf6\\x03\"pM\\x8e`\\x0f8u\\xe7\\\\\\xca\\x86d\\x85\\xc8\\xba\\xf7z\\x82\\x06\\t)\\n\\xb8\\xe7\\xb7v\\xd37n\\x8e\\rDe\\x1aj\\xf4J\\xa8+\\x08\\xfe\\xa3\\x94\\x02\\xb3}\\xbb\\x9bY\\xa4\\xb5\\x05\\xd9\\xb8!\\xfa\\'\\xfd\\x00\\xa968\\xf2B\\xfb$\\xbf\\x84\\xd5\\xe2\\xd6<\\x0c!z~\\x08\\x17\\xca\\xb4h\\xc0\\xc6\\x7f*\\x7f\\xc4\\xeb\\xff\\t\\xf6\\xb6<\\xcc(\\x0cgb\"\\x0b,\\xf3\\xe0+\\xb1N\\xb4\\x9f\\xec\\xcb\\x8b\\x0c`GgE\\x9fz<=\\x95\\x9f\\x9d\\xf3$\\xbc\\xe7\\xc4O\\xa1\\xd0\\xeat\\x80\\xdd\\x10\\xeb4Ui8\\x0f\\xd6\\xb3\\xfco\\xbd\\x0c\\xe2\\x85\\xd6+\\xdd\\xcc\\x1eL\\xf5\\x85\\xa0\\xa3Z\\xce\\xd2y\\x0bQ\\xab\\xc5`Q\\xd5v\\x88\\xa2\\x0b\\xa2W\\xd1\\x08\\xffJ\\x9c\\xa8\\'\\x9ed~\\x88\\x17\\xbd\\xcb-N\\xfc\\xbb\\xe5\\xf1\\xc4a\\xb0.\\x1e1\\xdf\\x8blF\\x19e\\x85%\\xae\\xa6\\x0f\\xeaC\\xda\\xf4(\\xc5\\x19\\x16\\xd3$\\x8c\\x8eoD\\x90\\x00\\x14\\tx[R\\x84\\xe1l&\\x07(^&\\x00\\xef\\x9e\\x07\\xbai\\x8a\\x81\\x15\\x87X\\xdf\\xd9\\x85\\xd4V\\xaf\\x11\\x8e\\xc4\\xd8y\\x11}\\x04\\x99\\x97\\xd8\\\\\\x84+\\xfd\\x95?\\x9b.U(\\xb1,z\\xd1\\xed\\xa0kM\\xc5\\x02\\x89\\x91W17\\x13\\xa8\\x85\\xe6\\r\\x9e\\x8c\\x07\\xd0\\xe0.Z\\xdf\\x9f\\xc8+\\x9a\\x8dI*\\r\\xa1\\xbb\\x18\\xed\\x88\\xdb\\x9c)\\n\\xd7I\\xf75n\\xc5%/`J\\x85\\xbb\\x98\\x8a\"\\x94L\\x8d:\\xf4\\xfdqT\\xec\\xdc\\x14\\x96\\xd0\\xb3\\x89\\xc0S\\x8b\\xca\\x85$\\xf1\\x93\\xb99\\x9f\\x96\\n3\\xbe!\\xd2V\\x98\\xb3\\x18\\xdb\\xe0LT\\x99\\xd2D\\x91l1\\r\\xe6\\n\\x83UO\\xc5\\x83\\xfb\\x9a$\\xdb\\xb0\\x83\\x8b~\\xc1\\xe9\\x10\\xb4X\\x10\\xa9p\\xe9\\xf5\\x962\\x19?$\\x87g\\xa0\\xfce6\\x9b\\xa2\\x0c\\x86\\xd5\\xd5\\xcc\\n\\x1a\\x98wN:F1\\x84\\xcc\\xaf\\xf6\\xb6\\xfb\\xcd\\x8a-\\x03\\x81y)\\xd7VKM\\xb4\\x15\\xf1\\xa7N\\xc7\\xf6\\xac\\xc4un\\xe1\\n\\xe6\\xa3\\xa2\\xf5\\x9baf\\xf7\\x92\\xae\\xfbf\\xa7\\xed\\x05<\\xf2\\xc0\\xfff\\t\\x85\\x85s\\x1cdM\\xcb\\xe4\\xd5:\\xee\\x1c>M\\xb7\\x84F\\xa5\\xf2\\xbc\\x83$qP\\xdd\\xc1\\x97=C\\x98\\xd5\\x1e;\\x89\\xc8\\x10\\x8aU&L\\x10H\\xf7w\\xd8x\\x83\\xa1\\x15\\\\=R\\x9f\\\\y\\xf7\\x9b\\xc2\\xbcm\\x9eQ\\xb4\\x98\\xa1]\"V\\xb5z,H!\\x17`\\xf7\\xa5\\xff_\\xb8Mj\\x98\\xe2\\x15\\xbc?\\xefw\\x15\\xe7\\x12\\xfa\\x8b4\\x8e\\xbb\\x19C\\xf0D\\xfaev\\nD\\x94\\xc8#\\x15\\x01\\xfe\\xb2\\x0b\\xf7I9\\x18\\xb9\\xb6\\xc8R\\xeb\\x92\\xb4ad\\x15d\\x97\\x97\\x9dp\\x89\\xa20\\x8e\\x91\\x82\\xc7S\\xdc\\xd5\\x7f\\xc3Q\\xa9\\xc2H\\xa3\\x0c\\x0ch`9\\x81\\xa9\\xd5\\xb9w\\xa3t\\x0f\\xa8\\xa0\\x9e\\x88]\\x8c\\x15\\xe8\\xa8zu/9N\\xc0f\\xf7\\xbe3xCN\\xfb\\xf4\\xec\\xe3\\'VR\\x8f\\xe8\\xe6\\x00\\x98l\\xa4\\xeb6\\xd4\\xcew\\xccl\\xd7\\x9c\\xd2\\xe6\\x93~\\x1f\\xe4q\\xb8\\xcc\\xc1\\x1bxm\\xc3h\\xb4\\xfau\\x92\\x8c\\xc0Z;1\\xe7t\\xf5\\xfd^\\xbc\\x1b\\xdf\\x9ci\\x92\\x8a\\xa1\\xcf\\r\\xb7\\xbb\\xc7z\\x1c\\xe3M+\\xd0\\xbd>\\xf3?9\\xc5I$\\xb6\\xed)\\xc3\\xf6\\\\\\xcc\\x81\\xcfA\\xa5\\x03\\xe9\\x9b>,`\\xe5\\x1f$d$]\\x97\\r\\xf43\\xc9%4\\x9f\\x1c\\xa2)RX\\xfc\\x02\\x14AT|)\\x8b\\xc74m\\xaf\\x0c\\x8b\\xa8R\\xdbt\\x8b\\xe0KG\\xc0\\xef\\xe9\\xa6\\x05\\\\\\xbbL\\x9a+DO\\x06\\x18\\xe6\\xd7\\xbd$\\xf9\\x03\\xec*N#Q\\x9ep\\x85B|S\\xcb\\xccX\\xa2\\xb4\\xf7w\\xc2\\x0e>rM\\xa2q\\xfd\\r\\xf6\\xd7M\\x87C\\xcce\\xfc|\\x8e,F#\\xaf\\x8c\\xa4\\x04\\xe8\\x92\\x93{\\xbc\\x12\\xbf\\xcck\\t\\xe3\\x1d@)W6\\x1e\\xeb\\x15Kt\\x10\\x88@\\x9b\\xea!\\xda\\xbb\\x7fH~\\x84\\xea\\xb0\\xd3\\xced\\xe2n\\x1b\\xb9\\xeb\\xcf\\r-\\xce7\\xaa\\x83\\xc13m7\\xc0v\\xb2\\xd7R\\xddw\\x8e\\x07\\x83\\x89,\\xf8=H\\xaf\\xf0\\xadO\\xf3\\x8b3\\x85_\\xb4\\xf8\\xc0\\xfaW\\xc8\\xbe\\xaa\\xa7\\xa1%6\\x06d\\xa4\\xd4\\x0f\\xea\\x1d\\xb3\\xba\\xa8\\x9ah]\\x98\\xb5\\x9a4\\xd9\\x8d\\x98\\xa9(\\xd9\\xe3\\rBnr\\t\\x8b\\xa3\\xa1v\\x16j\\xd2[zD@\\x7f\\xfd@_\\x18\\xdd|\\x87\\xe03\\n\\xd1A\\xed\\x90\\x16W\\xf9u\\x03\\xb4<\\xd2\\xf3Lc\\n\\xf6\\x88\\xba\\xd0=o\\x91\\xd3K\\xe9\\xcb\\'\\xdaB\\x14\\xd8\\xc8\\xc0}`h\\xef\\xc4\\xa0W\\xbf\\xec\\xce1\\x82\\x02\\x11a\\x06\\x91\\xdbe3\\x9e\\xf6\\n\\xee\\xb3\\x87\\xee\\xdfH}\\xe6\\x82\\x0fg\\xf1\\xa5\\xd3\\x08\\x97\\xd5\\xd0.3\\xe26J\\x90l`D\\xdd\\xd9\\xddE\\xbfs\\xe3j\\x93\\x8a\\xcb4\\\\\\x97t\\x13DnQ\\x1f\\xa6C^\\xa7\\xcc;\\xe1\\x10p\\x8f\\x05\\x85\\x85j2+\\xfd\\xda5e\\xd6PPHg\\x7f\\xaa~\\x9c-\\xa8\\xfbe\\xdbJ5i\\xec*y\\xe8\\xe3\\x90\\xd9CDozi\\x1e\\x9fi\\xe3\\xaa<L:\\x1f\\x18\\xade\\x11\\x8eAr\\xea\\xdb\\x97\\xed\\x07\\xc9\\r\\x13\\x99\\xc5\\xdd\\x1b\\x94\\xb5D\\x0b[@\"(\\xca\\x9c`\\xfb\\x90p\\xa7Ml1\\xe9\\xa1\\x1f>\\xc3\\xc7[\\x19i\\xfd\\n\\x0f\\nNU\\x9e\\xc2\\n\\xe6\\x05\\xc9\\xef^\\xab\\xe1\\xf7P\\xa9\\xd7\\xb2k\\xe2<\\xecE\\x97\\x1bhjb\\xe9Bn\\x95jwD\\xf8\\x92\\x12:OG\\x83\\x04\\x808\\xc5\\xd3\\x97$\\xf91\\x9f\\x9f\\xaa\\x82\\xf7\\x95s\\xd8/\\x96b\\xd4z?\\x94\\x13\\xcf\\xa5V\\x1b\\xe6\\xd0\\x18Dy\\xf3!xFv\\xd3s\\x8b\\xf0s\\x08d\\xe0\\x11r\\xe9\\xbc\\xf00\\xc4\\x82\\xa5`bxT\\xbbJ\\xd0M\\xa1u\\x82\\xeeq\\x9f\\x05\\x15\\xf4\\xef o6\\x97\\xe0\\xc3\\xbd\\xdf\\x15Es\\xe5B\\x03\\xc0\\x04\\xf6\\xc2\\x97\\xda\\x81\\xaf\\xd8v\\x96\\xac\\x1e\\xa9L\\x19:R\\x01#\\xbfi(\\xa9z\\x8c7\\xa4\\xc2\\x7f\\xb6|\\xbd\\x94\\xafx|(\\x8e\\xf7\"o\\xda\\xcd\\xd5\\x9d\\x97\\xcf\\x0b01c\\x12\\x13K\\x0fQZ\\xd57$\\xb3\\x9b\\xe9(\\xfb\\xcf\\x88Rr\\xae[h\\xef\\x04\\xdev\\xc0^\\xd4\\xf1Z\\x13a\\xbfo\\xb9\\xb4\"\\xe6\\x1a\\x9c8;1%Zc\\r\\xf5\\x81\\xe6\\x80\\xf2]V\\x06\\x8cf\\xc1\\xe4h\\xbd\\xd3+\\x1cE\\xf3\\xe0\\x07\\xfbS9\\xf0\\xf0\\xb9[\\x98\\n\\xacfa\\x89\\xf7\\x83\\xd5\\xea\\xa8\\x141\\n\\x07\\xa4\\xb4 /\\xe0\\x93\\xcda<\\x1b\\xef\\xa6\\xdc\\x19\\xf6\\xda)\\xf8\\x927\\x92\\x96n\\x11\\xcf\\xf7\\xeeZGc\\xf3Q\\xa0]\\xa7i:fAM\\tY5\\x91n\\xa3\\xba\\xe3\\x93\\xbe\\x0e\\xd9\\xb2&^31\\x02\\xaa\\x90\\x16\\xb8\\xa8{\\xb3\\x0e\\xc9\\xfb\\xe6q\\xa3\\xbe\\xf0%G\\x11Ld\\xf1\\xea\\x06\\xee\\x96\\xfdw \\x0c\\xa5\\xbb\\xb8k7\\xca\\xc5\\xe0\\x0e\\x19\\x8b\\xebI\\xec\\x854\\xeaS\\xc7\\xf5\\x0b\\x1f\\x1f\\xd6>X\\x91\\x99\\x80=\\xe9v\\x0c{\\xb6\\xd5\\x9b\\xdb&S;\\x81w\\xe9C9w\\x08\\xef\\x05\\xbb\\x90H\\xd1\\xae\\x7f8\\x05\\r\\xab\\xf1\\x91\\x9a\\xc3\\xbf\\xfb\\xacH?\\xb3\\xf0\\x9c\\xbc\\x9b\\x94C\\xb98\\xa7b\\x0f\\xd8\\xbf\\xf1j9\\xa7\\x1a\\xbd\\x0e\\xbc\\x14\\xcfk\\xc7\\xcb\\x85\\x8d\\x9a\\xe8\\x9d\\x02\\x839\\xe8\\x1e\\x81\\xd5\\xd0U\\xab7\\xef\\x95F\\x0be3_\\xaf~?\\xdd\\xb0,\\x80\\xc5\\xaerc\\xb1\\xecau\\x86\\x9b\\xdb\\xc2*\\x85[\\xab=T\\x15\\x0b\\x16JX.n\\xbc\\x00\\xfc\\xdc\\x06qr\\x7f\\x90\\x97\\xc1JG.t\\xb6{\\xb6\\x94\\xa6\\xc1\\xdd|\\xca\\xf5\\xce\\xa5J3|\\xb3\\x8f\\xc4Gx\"J\\x1b\\xec\\x01\\x1b\\xb4\"\\xde\\x99BJ\\xb9\\xb3\\xfe\\xd4\\x9b\\xfa\\xc2\\x87\\xb9\\xdb\\xd3\\x0c\\xd5\\x8e\\x1b\\xe9\\xdc\\xc3B\\x99(\\x88._\\x9c\\xbcYF\\'{I\\xc5\\xa1\\x9fV\\x99\\x86\\x1c\\xb1\\xbf\\xfa\\x06i\\xad\\x81% \\x86\\xd5\\xf4~\\xbf\\x7fnjA\\x8f\\xd9X\\xc2\\x93/k\\x95\\xb4\\xfdb\\x84\\xc6B\\x07\\xea\\xb1G+\\x9a\\xcf\\xe9\\xe62\\x93\\x9bmga:\\xe1\\x85\\xc5\\xe9^\\x84\\xf7I4Hk;\\xc7w\\xa0\\x02\\xed\\x87;\\xbf:h\\x96\\x9bQn\\x0f\\xbd\\'\\x0e%$M\\x10\\x1b\\x84\\'\\xa1\\x1a)&\\xf0}\\xf7\\xc6\"xy$\\xdf]U0\\xaet9.HGz\\x9a\\x0f\\xc0\\x1f\\x11\\x87j\\xd2\\n\\xddB(\\xfcIh\\x7f\\x02A\\xf5\\xe2\\xc4\\xd5\\xb1\\x93p\\xe3\\x0e\\x8c\\x01\\xdf\\xbf8\\xda\\xcb\\x98\\x02Q\\xdeuE5\\xae\\xfa\\xd1\\x85`Z\\xa3\\x1ev\\x7f\\x18<\\xfe*\\x99\\xeaU\\xd0\\xbc\\xc8\\xcf\\xfe\\xae\\x1e\\x0e\\xee\\xa0\\xd3\\x95\\x83\\x8e4\\xb5\\x82\\x98b(\\xbdd\\xc4x.\\xc1\\xec6\\xfbqO\\xfe\\xb1\\x1d\\xe37\\xde_\\xe8\\xe0\\x9f\\x8c\\x17\\x98\\x9c\\xff7\\xde\\x86\\xcf\\xc9-h\\x1d:\\x08F\\xecwi\\xe1\\xa2\\n>E\\x1c\\xb1\\x13\\xb3\\x90\\xd6I\\x9e\\xbb\\xefX\\xe5\\x88\\x00\\x8b\\xc4\\xd2\\xf9\\x9a\\xcae\\xceG9\\xb5\\xd8&\\x05\\xe9;\\xf4\\xcf\\xe4\\x87\\xb4\\x0e\\x184\\x8dR\\x95\\x16JM\\xdc\\xe5\\xff\\x1d\\xd2\\x8f\\x0c\\x19\\xf0#\\x04\\xa3\\x0f\\xf1\\x8b\\xb2\\xdb2\\x12\\xf5\\xb6\\xbd\\xc1\\xc4\\xd4\\x9a\\xf0$z\\xbc\\xb9\\xf6\\xe1\\xdc\\x11)\\xdb\\x0cN\\xee-\\x19\\xeaa>p\\x98\\x8d\\xbc%\\x8bb\\t\\x06U\\xf7\\x8aF3\\xca\\xc5\\xf30\\xb3\\xd0w\\x90\\x07\\xdap\\xf0\\xa0\\xa9k>C\\xd6\\xba\\x12|d\"I\\xf70\\x03<o\\xbf.q\\x0fr\\xe5\\xa2\\xd5`\\x0c<\\x05_\\x18\\xec\\x83\\xce\\xef\\xc5)\\x9c\\x87\\n\\x189\\x9b\\x7f\\x7f\\x03$kq\\x968/\\x8e\\xd1\\x83\\x8c\\x19\\x0e\\xc2\\xe3\\x1a\\xb0\\xfexl\\x1d\\xa0\\xcak\\x91ECR\\xa5\\x9d\\x8a^\\x0c\\x9fpK\\xd6\\xa1\\xc1/\\xa5/\\x9e\\x12qs\\xd1\\xbb\\x13\\xd7\\x8b\\xd0\\xa2C\\xe7\\x1b\\xb7\\xca|\\x9c\\xa5i\\xc0y\\x9cY\\xbe\\xfa\\xbdg\\x9e\\x82\\x881v\\xa0\\xdd=L\\xa5p\\x1c\\x17\\xa5\\xda\\xf8\\xca\\x13C\\x81\\xc7\\xd7\\xa79\\xb3\\x88_\\xcd\\xd3\\xb6\\xcc\\x8f\\x13o\\x91\\xa4\\x88V9V|\\xe3u\\xdd\\xde\\x00\\xe1EXc\\x055\\xfc\\xe4\\x8f 4\\x04\\xf1^\\x1c{Uf\\xd2C-oayv\\xf6\"Gm\\xfa\\x9b\\xaaE;)K\\xa0\\xe4)\\xe4\\x85\\x1bP\\xb2zT3\\xe3\\xd5\\xfb\\x12c\\xa9B\\xc5\\x10v\\x0ew\\xf0\\xd9\\x82\\x17\\x1c\\xb8>\\xbe\\xb2\\x0c\\x94\\xed\\x14\\x7fR|\\x9f)\\xcd\\xa0\\x99k\\xea\\xa3\\xca\\xb2\\x02r\\xc0\\x9fD\\xb1n\\xeamk\\x9fAa\\xd4;\\xa6\\x90\\x06LMJ`A\\xfe\\xc30\\xb2\\x0e\\x84\\xef\\xc0\\xb8\\x8ba/\\xa5o\\xfec\\xee\\x93\\x8fi\\x9e\\x1bM\\x05\\xc3p\\xab\\xb0\\x92\\x9f\\x04o\\xaa\\nZ\\xca\\xbd4s\\x06\\xe3\\x91\\xe4\\x05\\x16I\\x08\\xec\\xf9\\xf3\\xdb\\x86\\x12u\\x1c\\x8bv\\x84\\x8c\\x80R\\xe8\\x97C\\x1f\\xa8\\xebR\\xe0\\x1f\\xb7\\xec\\x02\\x1af\\xef\\xad]\\xb6\\xebPT%\\x87\\x07c\\xc0\\x1aQ\\x1b\\xafO\\x95\\xccy\\x15\\x0b|\\x97\\xa8\\xeb\\x8d\\xc4\\x94\\x89>>2{\\xd6\\xfa\\xec\\rL\\x82\\xd5C\\xcawCg\\xec\\xdcN;UR\\xec\\xa52\\xf7\\x17}\\x86\\x87\\x94\\xcf\\xcb\\xb3\\x92qZ[\\x0e\\x93\\xb6K\\x86>\\xb4\\xd5\\x82;F\\xd6\\'\\xba\\x18\\x85`p\\x8e\\x82\\xc6x\\xc9\\x97v1\\xa7\\x18\\x81\\xce\\xa4\\xc3v\\xd8\\xb4\\x94C\\x87\\xf2Kv\\xa3\\xae\\x83\\xbaa\\xf5>%\\\\\\xf1d\\x9dq\\xa9\\x9d\\t\\xa1\\x1f\\xd4\\xc0v\\xee\\x10\\xb4\\xdb8\\x8fD\\x05$\\x83\\xf4d\\x1e\\x01\\x13\\x1dC\\x03\\xfb^J\\xfc7\\x84\\xf1\\xac\\xff%\\xde\\xf54\\xd6`\\x8f\\x93\\x1cEs\\xb4n\\xb8\\xeeG\\x19\\xb8\\x97\\xbe\\x89=Q\\xc7\\x18b\\x96\\x13\\xab\\x87C6\\x0b\\x14\\x9b[\\xbad1\\xe92\\xb99_W0:\\x9b\\xab\\xab\\xa6\\x92\\xc8\\xde1\\xb2\\x1f\\xcb\\xbf\\x1fq\\xf5\\xff\"\\x03\\xf9\\xee\\x9b\\xd1\\xf0\\xf6\\xfa\\xe7\\xba\\xd7\\xd8\\xb5\\xc3\\xf8\\xbe\\xef\\xa7\\x1c\\xa4x\\xb3U\\x07z\\xff\\xcb\\x8a\\xc1\\xe0\\xcc\\x08\\xf5\\xe8.\\xa1\\x12\\xb3=g\\xdf\\x97\\x1bU\\x06\\xf3#\\x80\\xf4Q \\x1a\\xf1\\x8dS\\xfc\\x19N\\xcfW\\xe9i\\x91\\x0be\\xf5\\xe4y\\x032\\n\\xd7\\to\\x9a\\xef\\xbe\\x92\\xf8+\\xc6\\xd3\\x93\\xf2\\xbd5Y\\x96\\x03\\x01+\\xce\\x95.17>\\xd7\\xe1\\xf9o\\x93E\\x8f\\x08[\\xb5>|\\x15\\xa8\\xd5W\\r\\x15\\xa9\\xce<\\xe1\\x9a\\x0f\\n\\x17{8>)D\\x01\\x89vM\\x9f\\xf0\\x9aqY\\xf3\\x8b\\xd2\\x18\\xb9]4kc\\x10\\xc3f\\xaf\\xf5#\\xc8E\\x19\\xed\\x1a\\x02\\xb6Pjd\\x89y\\xa7\\xa3^\\x86\\x8c3Z\\xc5t\\xcdN\\xa5\\xaa\\x16\\x15\\x96\\x83\\xcah\\xa4CQq\\xbb\\x12\\xb4\\xb4\\x93g\\xe0\\xba\\xdc\\xb6h4\\x91\\xc4b\\x08\\xa1\\x7f\\x8c\\xe0\\xd7\\x05\\xdc\\xbfP\\xd5<.D(!DG\\x9c+z\\xb6\\x8f-\\xcc\\xbe\\xc9\\x1f\\xe3\\xa6\\xf2\\xff\\xc2\\x99\\x06\\xbb\\x0e\\xcd\\x86\\x1e\\xfeu{\\x03HB\\x82\\xa2\\x0b\\xf5*\\xd4\\xd5\\xcd\\xcc\\x1a\\xe7\\x80T\\xed#\\xd1t\\x1d\\xcd[\\xdeQ\\xc8\\x1fKcF3\\xee\\xb8Hmd\\x0e\\x07\\xb1\\x8f\\xe8\\x04\\xdf\\x00X\\xde\\xb1\\xef?\\xdd\\xda\\xd2\\xf7>\\x97&\\x8b\\x95\\xbdl\\xab\\xfb\\xf0;\\xea#@N\\xd6b\\xac\\xe3V\\xa0\\xc6\\x12\\x1b\\x15\\x06:\\x80\\xf5\\xa1\\t\\xf1\\xbe\\xd6\\x87\\x04;\\x15\\x94Z\\x9eTp\\x1d\\x9d=7\\x9a;\\xda\\xf4\\xd5\\x92\\xbd\\xe8\\x0e\\x9b\\xc8ZT\\xd7\\xeb\\xa4\\xaa{\\xe4\\xfc\\xc7%\\xcf\\x9f\\x8a5\\xac\\xba\\xfc\\x11\\x82\\xef\\x7f`+Gj\\xb2G\\x02xK\\x02,\\x1e\\xe1p\\x12LW\\x86\\xc4\\x1e\\xab\\xda\\x88\\xb0M,k\\xbd\\xdc?`\\x11\\xda\\xb5$W\\x08\\xd5\\x8a\\xb1O\\x01\\xa4\\xf1\\x02G]\\xcc\\xed\\xfag?T\\xe1F\\t\\xd6ysB\\x99\\xb5\\xf5Q\\xc0\\xa8\\xb7\\x8c.\\'R*^b\\xf2XJ\\x9c\\xa7%\\xc0\"\\x97M\\x06\\x97p\\xb4\\x89n\\xb5\\xdcy*\\x1d\\x8a\\xcb \\x1c:\\x99\\x81(\\xb8\\x93\\xd8\\x94$\\xe4k\\xe9\\xdd1+\\xa5\\xa5\\x7f^|K\\xc3\\xf6\\xd5\\xbc\\xa8\\x1b\\x19\\xc4\\xa8\\xb1\\x03K]v\\x94H\\xa4\\xb8V\\x950\\xd9\\xac\\xdf1\\xbbX\\x07d\\xaf\\xb7\\xe2\\xab\\xdd\\xe1\\xfc\\x1a6\\xc1\\x10lt\\xfe\\xe3\\xe1\\xba\\xf0o\\xb9\\x90\\x06ZT\\xe1\\xea\\xae\\x15\\x8b*\\xc6\\xd7\\x9f\\xe8\\xe7\\xc6P\\x1c\\xb8q\\xbf\\x17\\xa5\\x8b\\xda%\\xa9\\x97_\\xff\\xef\\x8f\\r\\xca\\xb1B\\xbb\\xd1\\x90\\xce\\x81\\x8dxx\\xc3\\xa0LV0~\\x00(\\xc1|P#\\xd6\\xc8\\xc2\\xc6\\xf0;J\\xb7\\x08\\xf6\\x0b}\\x03\\x11T0\\xdeO\\x1a\\n]\\x97\\x88`\\xed&\\xca\\xbf*\\xac\\xe3\\xdc\\xd3\\x0e\\xa9\\x00\\xa9\\xc9\"\\xeaQ0\\xf4\\x9a@\\x83\\xb4\\xfd=\\xda?\\xd26\\xd1\\xc6\\x01l\\xd1\\xb6\\xc7\\x15W|\\xff\\xc4@\\x16\\x19\\xc7\\x1ex\\x90\\xec\\x03\\x89\\x15Y\\n\\xea\\xd2\\x15\\x8fi\\xa7\\'Q\\xb5\\xe1\"W4\\xae\\xa9\\xa2\\xd9\\xa8^#\\xe4\\x10s\\xa4\\x7f\\xce\\xa4\\x825\\xfa\\xbc\\xceF\\xc4)\\x9f\\t\\x01\\xae\\xa4\\x90\\xd0*\\xae\\xfe\\x96[\\xbc[\\x7f\\xb1;\\x00\\x0b\\xfe\\x18V\\x01:B\\xb4\\xaa\\xc5b\\x85\\r\\xe7\\xef\\xd9R\\xc6\\x13\\xe4uO\\xa5\\n\\xbe\\xa8\\xe7r\\xe7\\xe7\\xaan\\x88\\xca\\x10\\xfa\\x8c\\x80f\\x10I\\xd4\\xc6\\x13q\\x7fD\\r\\xc5U\\xd7\\xf6\\xeb\\xf2\\xa4\\xffv\\x89\\x0e\\xf0\\xe8\\xa2\\x0b\\xc5D*\\x90v\\xa68\\x15V\\xcfw\\xa9\"\\x08\\xbd\\x16+\\xda\"\\xe1\\xba\\x10q\\xe7\\xe6\\x91\\n\\x8a\\x93c\\x0b\\xe1a\\xf1\\xef\\xf2-\\xbc\\xe5\\xff\\xdc\\xa5+\\xcbZ4L\\x0bCe,n\\x9aDM\\x13\\xa8\\xbe\\xbegC\\xac\\x98}\\x96\\xba+\\x15\\xa1\\x03{;x\\x02CEYC\\xa4\\x14\\x18s!T\\x1bk\\xd9\\xea\\x89\\xd9\\xf8\\x8a\\x06\\xb2\\xaahQ9\\xedN4\\x06\\xb1\\xd4*\\xc2O\\xc9\\xe1dR\\xebB\\xea\\xbdVD!\\xbb\\xf4\\xde.\\xfa&\\xaf\\xf1M/\\x07\\x85N\\xa1\\xc3R\\x16\\x03x\\x02\\x13\\x05\\xcd\\x0b\\xe5\"\\x9dRh\\x1d\\xb7\\xf4\\xf2\\x8b\\xf0g[\\xca\\xb2\\xf6\\xd5\\xdc\\xef\\xe6\\xf5\\xdb\\xd0\\x97\\xc9,\\xdb\\xf5\"U&\\x86\\x17\\x90\\xfe\\x96\\xdd\\x89v\\xbc\\xf5\\xcf\\x12\\x85dFj\\xa2Xf}\\x0c\\x9e\\xdcJ\\xb4\\xb8\\xad\\xe0\\xe3o\\xdd\\xc1\\xa5L:\\xd5\\xb5\\xdbQ\\x9fv\\xba\\x0f\\xa9\\xae\\x83\\x9eY&\\xaaD\\xff\\xac\\x95\\x84\\xd4\\x12=\\xbf1\\xb8\\x17vL\\xa7>\\x9a#HJ7\\xaeA\\xdf\\x07\\x82\\xa1\\xd4fA\\xda8\\x92\\x01\\xb4\\xa6/f\\xd5\\x07V\\x85\\xac\\x87\\t\\xf9\\x10\\x12U\\x00\\xdf\\x02\\xb1G\\xca6\\x9c\\xab.X\\xeb\\xbd\\x87|\\xd4\\xb4\\x8f\\xc5\\x9e\\xd2oT\\xcf\\'\\xf4l\\x0fdv\\xedE\\xdc\\xa0a\\xac\\x13\\xdf\\xbd\\xab\\xb9Y\\x9d\\x00)\\xd7\\x1f\\xa5{\\xd9\\x88\\x15\\xfb\\x7fYTy\\x83\\xbb]m\\x06\\xc3*Y[e\\x8eJ\\x8e\\xcb\\x16\\xf7\\xf3\\x138\\xcf\\xd1\\xffg\\xaa\\xfa\\xcf\\xa9\\x00\\xe0\\x15\\xbd\\xa1\\xd8\"\\x01\\x03k\\x82{mK\\xc9\\x8bF\\x12\\x04\\xa3wI\\x9d\\xad\\x92N\\x9c\\xc1\\t\\xaf\\x86 \\x0c\\xb3\\xa5\\xc6\\xfd\\xa3\\\\N\\x0f\\xab\\xed\\xb2h\\xd8\\x99\\xdf\\xc7\\x18 \\x86\\x0fV\\xc26K\\xf7\\xaa\\xd3\\xfd\\x05an\\xef\\xec\\xe5\\xea\\xc4\\xcbO\\x98\\x9b\\\\\\xdae\\x1do\\rL\\xf6\\x0f\\x01\\x91\\x14EG\\x18\\xbab!U\\xbb\\x99\\r\\x7f\\xfe\\xc5\\xe1.\\x9a\\x10=\\r\\x14\\xc9\\x06\\xd3\\xc3FN;\\x93\\x17\\xe6\\x86\\x82[R)\\x0c\\x06B\\x81dghG\\x13b\\xf5l\\xc4\\x11\\xc3\\x84\\x8d\\x16m\\x17\\xa4 r\\xb8\\x9b\\nX2w#\\xed\\xa3`E\\xa3\\x16\\xb9<\\x05\\x17\\xe1O|N\\xf83\\xb8$+8k\\xeaA\\xec{!D\\x9d1\\xca\\xdco\\xeb\\xff7U\\x94\\x7fL=\\x9d-0\\xa0\\xaf\\x9a68\\x9d0T\\x02\\xda\\xba\\xac\\xee\\xc2\\xcc\\x96EC\\xdd\\x0e\\xb5\\xa6\\xb5S6\\xa5eP\\xcb\\xd4R\\xde\\x84\\xdf\\x1a\\x8c\\xa4\\x1f\\xccNg\\xe3\\x02\\xea\\xb5\\xd1]$K\\x16\\xd2\\x9c\\xe6\\x07\\x8bLfaRO\\xf1\\xbe\\x993\\x06\\xb4\\xfb\\x19X\\xb5}\\xe4$\\x8c\\xa4\\x92uTPMd]\\x99l\\xa9\\xfb\\xbf\\xf9\\xc7k\\xd2\\xea\\xe3\\xd4>t2A\\xb2V\\x19\\xd4\\x94\\x98\\xf0\\xb7q\\x98B\\xd4\\xb8\\xb2\\xefE\\xa8\\xff\\xb0\\x85\\xf2\\x8b\\x08\\xf0%\\xba0;!\\xf6[\\x01\\x92\\xa9\\xa1{\\x8b!\\x01\\x0c\\xac\\xd5ko_ \\xf7VP\\xb8]\\xf2\\x14\\xd6\\xb7\\xa3\\xa1\\x94$\\x99x\\x19f\\x02\\xab\\x89}\\xd1\\xaa\\x92\\x7f\\xab\\x80\\xb5\\x15~\\xd7\\x98h\\xa7\\x9d\\x15\\x1aWP\\x85\\xe7\\x9f@\\xb0\\x1eE\\xfa\\x9c\\xa1\\xf7\\xad\\xfc\\x02^].c\\x0b\\xe9e\\xcb\\xd6\\x1c\\x10\\x8f\\xb62\\xf7\\xacI\\xc4:\\xda\\xda\\xfbmM\\x1d?\\x9e\\x02\\x13\\x1a\\xf1L\\xe57\\xceF&l\\xe0L\\x0b\\xfe#\\xbb\\x8eA\\xa3`\\x15\\xf1\\xf4z_<\\x13e>\\xb9.m.)\\x10\\x01n\\x99h\\xc1\\x0c\\x1f:\\xb6\\x01\\xe5av%\\xd8\\xc1\\x9e\\x87\\xc5\\x10\\xa4H\\x08\\x01\\xa7\\r;[\\xca\\xf59\\x10\\xb8\\x81\\xd7j\\x99\\xbd\\xd4\\x81\\xee!#\\xd2\\xffp\\x8e\\xe0\\xa3c\\xf3\\x91<\\xe4\\xbf\\t:\\xba\\xf4i\\xf4\\xd8V*2\\xb6\\xcb\\xae\\x12\\x99\\x8e\\xa1`m\\x05\\xe1\\\\bg\\x84\\x8f\\x801\\xd0\\xbd\\xe9@)\\tw\\xee\\x8d\\xec-\\xfd\\x01\\x95M\\xcd\\xa8\\x1bB\\xd9~\\xd3E\\x92ol\\xec\\xb24\\x08$\\xed\\x98u\\xb3\\xb9\\xb6?v\\xa4-!\\xd0\\xb0\\xc5g\\xe4\\x99\\xab\\x8d\\x91\\xc1\\x9f.\\x96aH\\xe5\\xe6\\x85\\nM\\x18\\xbb\\xb6\\\\\\xf6\\xae\\xff\\xc9\\x80\\xb2\\x9e;k\\x1a\\xa5\\x98\\x8a\\xd6TZ\\x06_\\x0e\\xb4\\x89\\x98\\x11P\\xd1\\x86\\x80\\xb6\\x07\\xc2\\xab\\xdd\\xc4)\\xf6(\\t}\\xba\\x92\\xb0&\\xe1\\xca\\xed&\\xe3k\\x18\\xe0\\xfc\\xf2\\x08r\\xee\\xc2y#l\\x08r8\\xe4\\xf6\\xdbF\\x17V\\x1e\\xaeq\\x01B\\xbd1\\xc7\\x86\\x16\\x84Ib\\x11P-\\xe5{n\\xdd\\xa1\\x1b\\x8a\\x1c\\xd2!\\x96\\xc7y\\xe1\\xdb\\xe5I\\\\DMd\\x9a0\\xf7\\xa7\\x97\\x03D8\\xe5\\x81z\\xc7\\x94O\\xa0\\x06\\xacW\\x91m=\\xdb\\x04/\\xd2c\\x88\\xa0\\xc0\\x0b\\x1dK\\xc7\\xe8O\\xc9[\\x1e\\xd3\\x8e\\x10Q\\x84\\x91Sp\\xd8\\x1f\\x7f\\x1c\\xa7\\xd3X\\xae\\xe1\\x14^A=\\xe5\\x94\\r-PG\\xcc\\x96\\xd4\\xb5.95\\xe9J\\x94\\xe9\\xe4\\xed\\xbb\\x7ft\\\\\\x070\\xe4\\xf2\\x8e\\x8a\\xac\\xbdj\\x8eA\\xd0-\\x92\\x1d?\\xfau\\x8c\\x1e=\\xfd2\\xad\\x9b\\x80i\\xb6\\xe1\\xfd\\xf8\\n\\xb8\\xafBN2\\xf4#\\xdb\\xbb\\xbc\\xda\\xdd\\x0508\\x9c\\x08\\xc2\\xd8\\x04\\xb8\\xa1\\xc6Ih\\xf3`\\xe6;\\xfcFc?\\x11\\'J@g\\xee\\xb4\\x11\\x8e\\xdfY\\xd5\\xf6\\x02\\xc2}?\\n:\\xdd\\x00cyO~s|:\\xaeO\\xcd\\x0b|\\x05Y\\xe8\\xcf\\xe9J\\xfe\\\\N\\x00cA\\xc5\\xdfHnB1\\x848=\\xfa\\x1fT\\x85\\x00\\x86\\x8d_\\xa9`l#\\x1c3\\xd7\\xdf\\x0c\\x9eI\\xea\\x84\\xd2\\xa4\\xe7\\x96\\xe9\\x94\\xf0\\xff\\r8\\xad\\xf2\\x88i\\xaf[\\xc0X\\x85\\x07JW\\xb2\\xc1\\xb6\\xbe\\x02w&\\x8d\\xf7\\x9c\\xa6\\x8a\\x9c&I\\xa2\\xc0\\xacM\\x9d\\xc9U~\\xd0\\x81nZ\\x9cA\\x83S1X3t\\x92.\\x05\\xd7\\x10\\xc8\\xaf\\x94\\x94F\\xd3\\x15\\xb3\\xe41\\xfb1\\xd2W\\x95\\xf3\\x91\\xfc_P\\xc5\\x94\\x80\\x19p\\x074\\x10\\xc9\\x97$\\xfb\\xe9%`\\xb4Y\\xf0\\xcc=\\xd1\\xdb\\xf4\\x84\\xa8\\x8d\\x80?\\n\\t\\x99\\x98\\xef&\\x96\\xd6\\xff?e\\xc4\\x8e*\\xea\\xe4u\\xb3\\xb0\\x1a\\xe7\\x1fq\\xbc\\x1d\\xd1\\x9b\\xdd#\\x91\\x95\\x0c\\xbfj\"\\xde\\x1e\\x10s\\x81(\\xcf\\xfd\\xa9\\x90\\xeb\\xcf\\xcf\\xf7\\xe0s\\xd8N\\x944vl\\\\\\xba\\xa8\\x03*REE\\x8c\\xd4\\xd2\\x01\\xba\\xe5\\xe9#\\x8d{\\xf7P\\x95\\xb8p\\xbd\\x00\\xffjU]\\xc8z\\xd3\\x16R\\xe7N\\x98\\x05\\xa4\\x01\\xc6\\x1d\\xe9=\\x87\\xd7{\\x9b\\\\\\x1d;\\xb5\\x10\\x06\\x84a\\x84k2\\xdd\\xd6\\x8aI]q4,*\\x90\\x9aj\\xe1?\\xf2\\xf4H\\x18{\\xab\\xf5\\xc1\\xac\\xb9\\xa3\\x9f\\xee\\xc7d\\x9ay\\xec7\\xa4\\xe1\\xe6\\x9a\\xc8\\x9e\\xa0\\x94.\\xe9\\x81\\x94u\\x14&\\x90\\xf1B&D\\xa2&$ip\\x02\\xc5\\xe0b\\xda\\xa7\\xb8\\xe3\\x15Cb\\xc4\\t\\xd0\\xcb?\\x83Y\\xe9U3\\xcby\\xa1\\xdf\\x9a\\x82\\xec6\\x04[\\x0c\\x83U\\xd0\\x81\\x81\\xb3Tr\\xdbd\\xdc\\xbe\\xc0\\xa2\\xe7n\\xf4\\xcf\\rN\\x0fi\\xa7W\\x7f\\xf9\\x81\\xf2k9\\xf4\\x89,\\xcc\\xfe\\xef`\\xf1\\xba\\x88e\\xd8E\\x99T\\xfb:\\xbf\\x10y\\xde\\xa3\\x85O\\x9a\\xdb\\xb6)?\\xd0\\xa9\\xa0p\\x81\\x93\\xf2\\xed\\xd0J\\xb5\\x01o|n\\x92\\xef\\x12\\xcfPj)\\xa4nU\\xb0%j\\x88\\xc4\\xef2E\\xc2}M\\x94\\xb2v\\xc5\\xa7\\x02\\xeb\\x1f8\\n&d\\xc2\\'\\x06\\n\\x8b>\\x98\\xbb\\xbb5\\xb9\\x91Y\\xe6\\x02I\\\\\\xd9y\\xa0\\xd1q\\xb9\\xb8\\nI\\xb0\\rt\\xcb\\xa9\\xce\\xf6\\xf6\\x08\\x9a\\x96VL0)\\xcc8932cKk\\x9c)t\\xde\\xd7\\x14\\x0e\\x0eTo;wg\\xc6E\\x1fhy\\xacK\\xcadN\\xaam\\x97\\x91\\x03\\x1cW\\xc9\\x17i\\xe5\\xaey\\xcf|\\xf3h^z\\xb7\\xae\\xeeq\\x1ea\\x16[]\\x03\\xa1\\x98`EA\\xc9\\x05u\\x05\\x9aQ^\\xb2+\\xec&\\xa6\\xe9\\x11\\xd6\\xb1\\xe6/\\'R\\x9c`\\x80\\xf0\\xed\\x8c\\x11\\xad6>w\\x00L\\x02\\xb8\\x98\\x8e\\xcd\\x10\\xd2\\xbfT\\xb6\\xa51\\xca\\xb2\\x84\\x9e\\xca\\xe47\\r*\\x11s\\xd2\\xd6o|\\x11\\xd7R\\xcb\\nY\\xad\\x04\\xde\\xaf\\xf6\\xd2\\x0c\\xc0\\x03\\x01\\xbc\\xbe\\xe6\\xa6\\x01\\xb0\\xe2~\\xa3\\x04N\\xceu*\\xcd\\x151\\x9c\\xcf\\x96\\xfd\\xb2\\xeb\\x1b\\x83\\xfd;\\xe8.E\\x8eq\\xda\\xbd\\xf7\\xb4\\xe9\\x0e\\x82\\x8e\\x9ac\\r],\\\\\\'r\\xb9p\\xfd=\\t\\xc6\\x8e@~\\x80)\\x7f-\\x83\\xe0%*\\xd5\\xb0{.0\\xa1\\xa5\\xeb-\\xc2#\\xe2\\xfb\\xb8\\xb7\\\\\\xdds\\xeb\\x8f\\\\\\x8af\\x01Z@\\x8a\\xf5\\\\b\\xe0\\xe7h\\xcf\\xdaD\\x8fu\\xc9/B\\xef]o@\\x0b\\xa9\\xb6\\x86\\x93\\xc3\\x86n*\\xa0\\xd9p\\x8d\\xa5\\x11\\xeb\\xec\\xd4\\x08:;[\\xd5\\x14\\x9f5\\xbb\\x03/Rj_[\\x806nC\\xad\\rg\\xe3\\xd0\\x8dQ\\x80\\xff\\x10\\\\\\xd3\\xf0FO!\\x17\\x05\\xf4\\xea\\x1f@X\\xf3\\x14Pf\\xb0\\x82 \\xdf:Y\\xde\\xf5\\x10\\x9eI\\xf9G\\xeaW\\x14\\x08T\\xc8\\xa3\\xf5\\x914k\\x13\\x9f\\x0eC$\\xf8{\\xbbiF<\\x9f\\xb6\\x91\\xfbE\\xca\\xf9\\x1a\\x1c%\\xe6\\xf4]\\xb4Y\\x87\\x89zK\\x9c\\xbe\\xaa\\x12U;\\xe3\\xe1\\xf1\\xdc\\xa0\\x8d\\x94\\xcdE\\xaa\\x0bQ\\xbe\\x04\\x7f\\x0c\\xcb[\\xe3\\xc1\\xf3\\x9f\\x1a\\xed\\xd1\\x02\\x9f\\xfeB)\\xc0\\xaf\\\\W\\xdek\\xd4\\x1d\\xa8*\\xc1\\xe4yF3\\x8b\\xb7W\\xe5\\x03\\xef\\xf5%\\xc7\\xb9\\xfb\\xdc\\xcb\\x00\\x1fC\\xa6\\x89\\xc6\\xd5\\xb5&q\\xfe5\\x00\\xb3\\x92O\\xfe\\x15U)\\xcb\\x05\\xdd9i\\x8da\\xbf\\xca:\\xe6\\n\\xf3Rvv\\xc3cTp\\xe2[bx\\x92\\x0e\\x11\\xad\\xcbJl\\xb7\\xb1]\"M\\xf0\\x8b\\xc2\\xcc\\xd2\\xd3\"C\\'\\x06\\xeb\\xa3\\x1d\\xcc\\x14}*;[\\xd3]I\\x07/n\\x94\\xbb\\xb1\\xc1\\xaa=\\xe6Ov\\xaa\\xd9\\'\\x9d\\x00o\\x89\\xa9\\xd0\\xff\\xd5\\xfe\\x00\\x15\\xc7\\x90\\x19TU\\x83\\x82\\xa0\\xfc\\xa4ep\\xb5\\xe9\\'\\x9dq\\xb2\\xec\\x81H\\xad\\'\\xfd\\x89Uk\\xbda\\x8a&1\\x11\\x9f\\xc39\\xc3\\xbe5\\x00\\xe6\\x17<\\xf6\\x08\\xee\\xb8\\x9c\\xa3\\x967e\\xb5$!N\\x8f\\xe5\\xa7\\xb4\\xedi+\\xc1bD\\x07c\\xfd`\\xcdj$7\\xea\\xebhN\\x8e\\x1c\"\\x82A`\\xf7\\xa7\\xc0\\xd90wj\\xc9\\x9b/\\x05\\xe6\\xefD=\\\\H\\x8cq\\xe3\\x17,U\\xa8\\xa4\\xc5\\x9b\\x9d\\x18\\x96y{\\xf9\\x00\\xe0\\x10\\x18\\xb0\\xbb\\x90Z.\\xca\\xa5)\\xb3Gr\\x92m[\\x87\\xd7[\\x01\\xdeh\\xc2\\xf8\\xffCL\\xe1i\\x00\\xed\\xcaM\\xc3g\\xdd&&\\x98\\xb6F\\x94\\xd1\\xa8\\xbdg\"\\xbf\\x04t\\xac\\x027-X\\x81*\\xab\\x17\\xf0.\\xe6-.M8#XL\\x93\\xc9e9\\x02G\\xc9/K\\x7f\\x80- \\xe9a(\\xae\\x9f`.h\\x9b\\xa3\\xbf\\x0c\\xb7\\xe9F\\x87\\xe7(\\xe5\\xfau\\x88\\x12%\\xe8X\\xd9\\xc0\\xbeA=?\\xc7\\xc55\\xf4\\xb8\\xa6\\xb08\\xd4\\xc1,\\x00%n\\x8f\\x0b\\x99K`\\x01\\x8dl*\\xdfS+\\xb3\\x95\\xbd>\\x95C)\\xd8\\x95^\\xbe$0-\\xfa?\\xb4\\xbaT\\xf0]\\xf2\\xc3\\xd2K\\x9b\\xd0\\xdf\\x95\\x9f\\xf8,\\x8b\\xda!^\\xb7\\xdf\\xf99M>\\x08\\xef\\x14\\xfb\\xcf\\xc8\\x14\\xfa,[:\\x9b,^o\\xfa\\xfd\\x11 \\xa3\\xba_+&\\x18\\\\\\x80Jb\\x8b\\tb\\xb6\\x0f#:VK\\xa68\\xde\\xd4e\\xee\\xa0\\xbb\\x87Xe\\xc2y\\xe5x5G\\x84\\x9a\\xff\\xa3\\x0b\\xd0\\xaf.+\\x1aO\\x15\\x9a\\x06{\\x02\\x89\\x04\\x11yDs-\\xaa-\\x9e\\xf6T\\xb7\\x82\\x8c5\\xb7%;\\x9c\\xf1w\\x1d\\xe2\\xf9\\xb9\\x04\\xa2\\xc7\\xecJ\\xafNVM{\\xb1\\x86Hv\\n\\x08\\x93\\xda3,K\\xdd\\t\\xcc&a\\xac:(\\'\\xfe\\xb8DJc\\xee\\x1el\\x19\\x81\\xcd\\xdf+\\x87\\xc0\\x17\\xea\\xe6\\xdf\\xb8\\xe7=\\xb5K\\xf0q\\xaf\\xe6\\x92\\xdfK\\xfa\\x02I\\xd1\\x85\\xdb\\xcf\\x94\\xf9\\xf6\\x10\\xc2\\n\\xd8i)\\xd4\\xb0\\xcf\\x95\\xd8\\xae\\x87\\xe7\\xd8\\xab\\xdf\\xc9\\xb5\\x9d\\xc5\\x93WG\\xcd\\x9f\\xb7$)\\xd9{\\'l\\xf9.%\\xd4\\x11\\x168\\x7f\\x0f\\x1e\\x16\\xc9\\x12\\xce\\x8e\\x037\\x92\\x97<}\\xd2\\x9fC@\\x00\\xb6\\xc6\\x19:Ip\\x16A@\\xd5\\x9e\\t\\xd4\\xe7\\xdc\\xdai\\x17(%qu\\xbfR\\x13#g\\x03-\\xe2\\xcac\\xc3~n\\x11\\x80f\\x0f#u\\x86=\\xd5\\xe7\\xcc\\x00u\\x9bW\\xdb\\xc9\\x1d\\x9e\\xc3\\xf7\\xcc\\xfb\\x16\\xb1\\x1d\\xfbv\\x1e\\x01U\\xfbH\\x8d\\x11\\xc5K\\x1dK\\xf7\\xaen\\xe9\\xde\\xa2\\xf8\\xa7H6\\xa1\\xb0v\\x97\\x9e3Fk;\\xb5\\x98\\x05\\xb9\\x90\\xe6\\x14\\xf2\\xc5v\\xaf\\x00\\xd50\\x03\\xac\\x13\\x86\\xc0\\xcf\\x97E\\xd9\\xeaE\\xb1o\\x08e\\x06 Y\\xaeK\\\\\\x1aP\\xb9u\\x81\\xaf|b\"!\\xf9\\x05\\x89C/\\xf4\\x99\\xfdT\\x8c\\xde\\xfe\\xecR\\x03O\\xdd\\xc4\\xf3~\\xba\\xe8#\\x17\\x9ddjI\\x8c\\xd7Ah\\xea\\xf6\\x1ddvh\\x98\\xde=\\x8cEJ\\x9e;\\xae7\\xc8\\xf0Q\\xf7\\xb8G\\xc4K+\\x13`%~ \\xd3F\\xbe\\x14\\x1c\\xce\\xea\\xa41\\xca\\xdc\\x15\\x82\\x8dD\\x9a\\xf7\\xd4\\xf5\\xb27\\xf6\\x9b\\x03\\x87\\xc8\\xcbs\\xd6f\\xf2\\xc2\\x8eI\\xfe\\xbeF\\xa1\\xb9\\xd6f\\xb3x\\x06\\xefv\\xcd\\r\"\\xe8ey\\x86\\x91\\x93qJ\\x12\\x00\\xc8<\\xc6\\x00Im5$.!\\x0c\\xb6\\xe5\\x02d\\xf9z\\x86\\x1c\\x1e\\xd9\\x1bM\\x9f\\xb3\\xdc\\xc5\\xde\\xb6e\\xba\\xb4\\nz\\xe6\\x04\\xf2\\xc9k\\x13\\x8dXo\\xf04p\\x1c\\xc7/}-Lr&\\xd3\\x98\\xc2\\xc9\\xc4\\xe4S\\xbc\"X\\x85\\xdd\\xadFn\\x05\\xae\\xbfY_\\x7f<N5\\xf7M2\\xf0\\xfb \\x1eW\\xc73f\\xb1\\xbb\\xf1\\xe3\\x02k\\xd9\\x02Z\\x8c\\x85\\x8b\\xd6\\xc2\\x84\\xd8\\xa3\\x0f\\xec[xa\\x8e\\xa4\\xfc8\\x91f\\x89f\\xa5\\xbcNw\\xe4z\\x10\\xe1\\x02\\xb5\\xbb\\x9d2\\xec0?{\\xb7/r\\t\\x00W\\xc2$k\\x1dZ\\x9d4\\x16\\x99\\x0b#\\x08\\xed\\xb1\\xd3\\x1e\\x7f\\xf9\\x8dEO\\xff\\xfa\\xd5\\x86\\x95\\xba\\x7fZ\\xab$\\xdf!\\x7fw\\xbb\\xc2)\\x0b\\x175h\\xb8\\r\\xce\\x02_\\xaf\\xc0\\x05\\x1cl\\xe2\\xb8\\xbc-rY^\\xf1\\x8c\\xc6u\\x94ri\\x9a\\xa9x\\xb8\\xbbVr\\x9636Y\\xbc\\xeb\\xfa\\x87\\xc8/\\xea0h\\xdb\\x04Y\"\\x05\\x05\\x90\\xfe$$ed\\x82\\x07H\\xf2\\x18\\xf8^\\xc5u)\\x9fwd?h\\r\\x99\\xcf\\x7fv\\x8dR\\r\\xb5b0\\x83\\xf2\\xe2\\x995\\xad\\xe8\\x1emg<a]\\x1c\\x16\\xa0\\\\\\x87|\\xfd$\\xd85\\x01,\\xf2l\\n\\xaf\\xe7\\xc4[\\x95\\xa48\\x1e\\xcd\\x8eI\\xaa\\xfet\\xe9\\xc2!\\xd6\\x08\\xd4\\xb0\\x18\\x9f\\x9b\\xbc\\xa6S\\x11\\xd6\\x02\\x10\\x1b\\xd6:-+VhS+\\xc7\\xfe\\xe8\\xd6,g\\xcbQq\\x88\\x0f\\xeae\\x8f\\x98\\xc3\\na&\\xfc\\xda\\xe9\\xf7\\xe7\\x90\\xf0L5\\xb2\\xdb0\\xf72\\xaf\\xa4\\x02\\x10\\xfa+\\x1bGm\\xe1!\\xc3\\xd3\\xb3o\\'i2\\xbd}\\x87t\\xd7\\x80\\xcf\\xe7\\x9b\\xab\\x05\\xf2\\xb1 \\xdf\\x15Q\\xec\\xd5\\x17U8\\xc4\\x1c\\x87\\xdcX\\x87y\\xc2\\xdc\\x89\\x97\\xb8\\xc5\\x07\\xfcS\\xa8\\x82Y\\x8d,\\xaf2\\x11\\xc2\\x0f\\xf3\\xcc\\xe5`\\xf5\\xfb\\xa6\\xb5_[\\x7f\\xee\\x1d\\x94\\x96T\\xbe2\\xf1\\xbe\\xfc\\xf00\\x95g\\xd5d\\xda\\x8d~\\x1b*,\\x89\\x03\\x0cY\\xcf\\'E\\xc5\\x01\\xb9(K\\x99\\xb7\\x92\\xd3\\x8c\\x13\\x95\\x8f\\xc0\\xe1\\x15\\x0e\\x03\\xfd\\x1d\\x16\\xa5?\\xd7\\xcei>\\xbdk\\xd0/\\xb8\\xf99.N\\xf4\\xa6\\xdeL=\\xb9x\\x91\\xac\\x8b\\x13\\xbc\\xbe\\x92\\xdf\\xbc\\\\\\xe3M\\x87\\xbbJ\\xc1\\x1a\\x12\\xb6\\xfe\\x87\\x94'\n"
     ]
    },
    {
     "name": "stdout",
     "output_type": "stream",
     "text": [
      "ipdb> c\n"
     ]
    }
   ],
   "source": [
    "%debug"
   ]
  },
  {
   "cell_type": "markdown",
   "id": "8b8c564e",
   "metadata": {},
   "source": [
    "Huh, turns out that my data is in a binary format!"
   ]
  },
  {
   "cell_type": "markdown",
   "id": "5a7e3d8a",
   "metadata": {},
   "source": [
    "## 8. Automatically start the debugger\n",
    "\n",
    "You can start the debugger automatically with `%pdb` switch"
   ]
  },
  {
   "cell_type": "code",
   "execution_count": 23,
   "id": "af33640d",
   "metadata": {},
   "outputs": [
    {
     "name": "stdout",
     "output_type": "stream",
     "text": [
      "Automatic pdb calling has been turned ON\n"
     ]
    }
   ],
   "source": [
    "%pdb"
   ]
  },
  {
   "cell_type": "code",
   "execution_count": null,
   "id": "4d385c12",
   "metadata": {},
   "outputs": [],
   "source": [
    "read_input('day3.txt')"
   ]
  },
  {
   "cell_type": "code",
   "execution_count": 25,
   "id": "ca9dfa74",
   "metadata": {},
   "outputs": [
    {
     "name": "stdout",
     "output_type": "stream",
     "text": [
      "Automatic pdb calling has been turned OFF\n"
     ]
    }
   ],
   "source": [
    "# Turn off the automatic debugger\n",
    "%pdb"
   ]
  },
  {
   "cell_type": "markdown",
   "id": "f81214f1",
   "metadata": {},
   "source": [
    "## 9. Share your code with someone\n",
    "\n",
    "If you want to quickly share some lines from a notebook, you can use the `%pastebin` command. You can select which lines you want to share:"
   ]
  },
  {
   "cell_type": "code",
   "execution_count": 26,
   "id": "644a5b4f",
   "metadata": {},
   "outputs": [
    {
     "data": {
      "text/plain": [
       "'http://dpaste.com/8FTQE9KB6'"
      ]
     },
     "execution_count": 26,
     "metadata": {},
     "output_type": "execute_result"
    }
   ],
   "source": [
    "%pastebin 1-10 12 14-16"
   ]
  },
  {
   "cell_type": "markdown",
   "id": "042b11ec",
   "metadata": {},
   "source": [
    "## Bonus: @jit for brute-force\n",
    "\n",
    "If you, like me, sometimes try to brute-force a solution (because you are ~lazy~ in a rush) and you get to the point where it takes ages to run your code, you can use the `@jit` decorator from the `Numba` library"
   ]
  },
  {
   "cell_type": "code",
   "execution_count": null,
   "id": "1de2519a",
   "metadata": {},
   "outputs": [],
   "source": [
    "import time"
   ]
  },
  {
   "cell_type": "code",
   "execution_count": null,
   "id": "3a0bb561",
   "metadata": {},
   "outputs": [],
   "source": [
    "def calculate():\n",
    "    # Some slow computation\n",
    "    total = 0\n",
    "    for n in range(10_000):\n",
    "        for m in range(n):\n",
    "            total += m\n",
    "    return total"
   ]
  },
  {
   "cell_type": "code",
   "execution_count": null,
   "id": "9feb3910",
   "metadata": {},
   "outputs": [],
   "source": [
    "start = time.time()\n",
    "print(calculate())\n",
    "end = time.time()\n",
    "end-start"
   ]
  },
  {
   "cell_type": "code",
   "execution_count": null,
   "id": "e2c6a7b0",
   "metadata": {},
   "outputs": [],
   "source": [
    "# Install it first with `pip install numba`\n",
    "from numba import jit"
   ]
  },
  {
   "cell_type": "code",
   "execution_count": null,
   "id": "87fb2b6f",
   "metadata": {},
   "outputs": [],
   "source": [
    "@jit\n",
    "def calculate_fast():\n",
    "    # Some slow computation\n",
    "    total = 0\n",
    "    for n in range(10_000):\n",
    "        for m in range(n):\n",
    "            total += m\n",
    "    return total"
   ]
  },
  {
   "cell_type": "code",
   "execution_count": null,
   "id": "f63fab01",
   "metadata": {},
   "outputs": [],
   "source": [
    "start = time.time()\n",
    "print(calculate_fast())\n",
    "end = time.time()\n",
    "end-start"
   ]
  },
  {
   "cell_type": "markdown",
   "id": "f710f0a4",
   "metadata": {},
   "source": [
    "In the above example, the first run _only_ improves the execution time from 3.5s to 0.x s. The consecutive runs are few orders of magnitude faster."
   ]
  },
  {
   "cell_type": "code",
   "execution_count": null,
   "id": "864ce66d",
   "metadata": {},
   "outputs": [],
   "source": []
  },
  {
   "cell_type": "code",
   "execution_count": null,
   "id": "f428e230",
   "metadata": {},
   "outputs": [],
   "source": []
  },
  {
   "cell_type": "code",
   "execution_count": null,
   "id": "b95187d4",
   "metadata": {},
   "outputs": [],
   "source": []
  },
  {
   "cell_type": "markdown",
   "id": "8892a88a",
   "metadata": {},
   "source": [
    "I hope that everything that I showed you here can be applied not only once per year to solve the Advent of Code, but also in you daily work."
   ]
  },
  {
   "cell_type": "markdown",
   "id": "d23937ec",
   "metadata": {},
   "source": [
    "Want to learn more?\n",
    "https://switowski.com/blog/25-ipython-tips-for-your-next-advent-of-code\n",
    "\n",
    "This notebook will be available at: https://switowski.com/talks"
   ]
  }
 ],
 "metadata": {
  "kernelspec": {
   "display_name": "Python 3",
   "language": "python",
   "name": "python3"
  },
  "language_info": {
   "codemirror_mode": {
    "name": "ipython",
    "version": 3
   },
   "file_extension": ".py",
   "mimetype": "text/x-python",
   "name": "python",
   "nbconvert_exporter": "python",
   "pygments_lexer": "ipython3",
   "version": "3.9.0"
  }
 },
 "nbformat": 4,
 "nbformat_minor": 5
}
